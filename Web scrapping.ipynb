{
 "cells": [
  {
   "cell_type": "code",
   "execution_count": 1,
   "id": "55557a60",
   "metadata": {},
   "outputs": [
    {
     "name": "stdout",
     "output_type": "stream",
     "text": [
      "<Response [200]>\n"
     ]
    }
   ],
   "source": [
    "# Web Scraping Example using Beautiful Soup\n",
    "\n",
    "import requests\n",
    "from bs4 import BeautifulSoup\n",
    "import pandas as pd\n",
    "\n",
    "# URL of the website to be scraped\n",
    "url = 'https://ticker.finology.in/'\n",
    "\n",
    "# Send a GET request to the webpage\n",
    "response = requests.get(url)\n",
    "\n",
    "print(response)"
   ]
  },
  {
   "cell_type": "code",
   "execution_count": 5,
   "id": "37404bf3",
   "metadata": {},
   "outputs": [],
   "source": [
    "# Parse the HTML content of the page\n",
    "soup = BeautifulSoup(response.text, 'html.parser')\n",
    "\n",
    "# Extract the data from the webpage\n",
    "table = soup.find('table', {'class': 'table table-sm table-hover screenertable'})\n",
    "\n",
    "# Initialize lists to store the data\n",
    "headers = []\n",
    "rows = []\n",
    "\n",
    "# Extract table headers\n",
    "for th in table.find_all('th'):\n",
    "    headers.append(th.text.strip())\n",
    "\n",
    "# Extract table rows\n",
    "for tr in table.find_all('tr')[1:]:  # Skipping the header row\n",
    "    cells = tr.find_all('td')\n",
    "    row = [cell.text.strip() for cell in cells]\n",
    "    rows.append(row)\n",
    "\n",
    "# Create a DataFrame to store the scraped data\n",
    "df = pd.DataFrame(rows, columns=headers)\n",
    "\n",
    "# Save the data to a CSV file\n",
    "df.to_csv('scraped_data.csv', index=False)"
   ]
  },
  {
   "cell_type": "code",
   "execution_count": 6,
   "id": "35f6fbd0",
   "metadata": {},
   "outputs": [
    {
     "name": "stdout",
     "output_type": "stream",
     "text": [
      "                Company  PriceRs. Day HighRs.\n",
      "0                   HCC     50.30       51.18\n",
      "1   LIC Housing Finance    714.40      719.55\n",
      "2          Elecon Engg.   1326.00     1333.00\n",
      "3         Bharti Airtel   1444.75     1447.85\n",
      "4            Tata Steel    182.95      183.87\n",
      "5        Sun TV Network    775.40      792.60\n",
      "6          Federal Bank    172.70      174.56\n",
      "7       Praj Industries    639.55      658.00\n",
      "8         Gravita India   1328.15     1350.00\n",
      "9                 Trent   5058.60     5089.35\n",
      "10           Exide Inds    543.20      546.00\n",
      "11         Petronet LNG    323.20      326.00\n",
      "12   Dixon Technologies  10283.05    10347.95\n",
      "13     Ultratech Cement  10994.80    11038.55\n",
      "14        Hero MotoCorp   5806.90     5859.00\n"
     ]
    }
   ],
   "source": [
    "print(df)"
   ]
  },
  {
   "cell_type": "code",
   "execution_count": null,
   "id": "f1f64c0a",
   "metadata": {},
   "outputs": [],
   "source": []
  }
 ],
 "metadata": {
  "kernelspec": {
   "display_name": "Python 3 (ipykernel)",
   "language": "python",
   "name": "python3"
  },
  "language_info": {
   "codemirror_mode": {
    "name": "ipython",
    "version": 3
   },
   "file_extension": ".py",
   "mimetype": "text/x-python",
   "name": "python",
   "nbconvert_exporter": "python",
   "pygments_lexer": "ipython3",
   "version": "3.12.4"
  }
 },
 "nbformat": 4,
 "nbformat_minor": 5
}
